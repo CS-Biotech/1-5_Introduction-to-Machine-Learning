{
 "cells": [
  {
   "cell_type": "markdown",
   "metadata": {},
   "source": [
    "# Week 5: Introduction to Machine Learning \n",
    "# Additional Exercises\n",
    "\n",
    "Before we delve into specifics next week, let's do some exercises to explore ML terms and some of the work being done in the field.\n",
    "## Learning Objectives\n",
    "This module will show you:\n",
    "1. ML jargon and related resources\n",
    "2. Challenges of ML in biology\n",
    "3. (Optional) ML-Biology research papers"
   ]
  },
  {
   "cell_type": "markdown",
   "metadata": {},
   "source": [
    "### Machine learning glossary\n",
    "\n",
    "There is a LOT of jargon in machine learning. We will explain new terms to you as they appear, but as a precursor to the upcoming modules, let's do a light exercise to look up some new (and old) terms ourselves.\n",
    "\n",
    "---\n",
    "**Q*1. Summarize (briefly, in 1-3 sentences) what these terms mean/how they are used *in your own words*.**\n",
    "\n",
    "Doing so will help you think about what the term actually means instead of copying directly from the internet. You will likely not fully understand what all of these words mean yet, and that's okay. Later, you can come back to this list and see how your understanding has improved.\n",
    "\n",
    "Feel free to use any resource to search the terms, as long as you think it is reputable/accurate. Cross-checking with multiple resources is a good way to ensure this. You may find these links useful:\n",
    "* https://developers.google.com/machine-learning/glossary\n",
    "* https://ml-cheatsheet.readthedocs.io/en/latest/glossary.html\n",
    "* https://www.ibm.com/docs/en/watson-studio-local/1.2.3?topic=models-machine-learning-glossary\n",
    "* https://chat.openai.com/\n"
   ]
  },
  {
   "cell_type": "markdown",
   "metadata": {},
   "source": [
    "\n",
    "  <span style=\"background-color: #FFD700\">**Summarize the terms below:**</span>"
   ]
  },
  {
   "cell_type": "markdown",
   "metadata": {},
   "source": [
    " <span style=\"background-color: #AFEEEE\">**1. Feature selection**</span>\n"
   ]
  },
  {
   "cell_type": "markdown",
   "metadata": {},
   "source": [
    "Answer here:\n",
    "\n",
    "---"
   ]
  },
  {
   "cell_type": "markdown",
   "metadata": {},
   "source": [
    "<span style=\"background-color: #AFEEEE\">**2. Hold out data**</span>\n"
   ]
  },
  {
   "cell_type": "markdown",
   "metadata": {},
   "source": [
    "Answer here:\n",
    "\n",
    "---"
   ]
  },
  {
   "cell_type": "markdown",
   "metadata": {},
   "source": [
    "<span style=\"background-color: #AFEEEE\">**3. Parameter**</span>\n"
   ]
  },
  {
   "cell_type": "markdown",
   "metadata": {},
   "source": [
    "Answer here:\n",
    "\n",
    "---"
   ]
  },
  {
   "cell_type": "markdown",
   "metadata": {},
   "source": [
    " <span style=\"background-color: #AFEEEE\">**4. Epoch**</span>"
   ]
  },
  {
   "cell_type": "markdown",
   "metadata": {},
   "source": [
    "Answer here:\n",
    "\n",
    "---"
   ]
  },
  {
   "cell_type": "markdown",
   "metadata": {},
   "source": [
    " <span style=\"background-color: #AFEEEE\">**5. Inference**</span>\n"
   ]
  },
  {
   "cell_type": "markdown",
   "metadata": {},
   "source": [
    "Answer here:\n",
    "\n",
    "---"
   ]
  },
  {
   "cell_type": "markdown",
   "metadata": {},
   "source": [
    "### Challenges of ML in Biology\n",
    "\n",
    "---\n",
    "**Q*2. Read the Nature article \"A Guide to Machine Learning for Biologists\" by Greener, JG. et al, specifically the section titled \"Challenges for biological applications\". What are some of the challenges in using machine learning for biology? List 3 and explain each one in 1-3 sentences. You are welcome to explore this topic in sources other than this article as well.**\n",
    "\n",
    "Article: https://www.nature.com/articles/s41580-021-00407-0\n",
    "\n",
    "Note: To read the article, you may need to sign in using your UofT credentials.\n",
    "\n",
    "<span style=\"background-color: #FFD700\">**Write your answer below**</span>\n"
   ]
  },
  {
   "cell_type": "markdown",
   "metadata": {},
   "source": [
    "Answer here:\n",
    "\n",
    "---"
   ]
  },
  {
   "cell_type": "markdown",
   "metadata": {},
   "source": [
    "### Additional Reading\n",
    "\n",
    "This section is optional. If you would like to read about some interesting use cases of ML in various subfields of biology, we've listed some here. You can access these directly on the page or by logging in with your UofT email/credentials on the respective journal sites.\n",
    "\n",
    "1. Accurate prediction of protein structures and interactions using a three-track neural network: https://www.ncbi.nlm.nih.gov/pmc/articles/PMC7612213/\n",
    "2. Artificial intelligence-enabled detection and assessment of Parkinson’s disease using nocturnal breathing signals: https://www.nature.com/articles/s41591-022-01932-x\n",
    "3. Improving breast cancer diagnostics with deep learning for MRI: https://www.science.org/doi/10.1126/scitranslmed.abo4802?url_ver=Z39.88-2003&rfr_id=ori:rid:crossref.org&rfr_dat=cr_pub%20%200pubmed"
   ]
  },
  {
   "cell_type": "markdown",
   "metadata": {},
   "source": [
    "## Conclusion\n",
    "\n",
    "In this modul,e you have seen:\n",
    "1. ML jargon and related resources\n",
    "2. Challenges of ML in biology\n",
    "3. (Optional) ML-Biology research papers"
   ]
  },
  {
   "cell_type": "code",
   "execution_count": null,
   "metadata": {},
   "outputs": [],
   "source": []
  }
 ],
 "metadata": {
  "kernelspec": {
   "display_name": "Python 3 (ipykernel)",
   "language": "python",
   "name": "python3"
  },
  "language_info": {
   "codemirror_mode": {
    "name": "ipython",
    "version": 3
   },
   "file_extension": ".py",
   "mimetype": "text/x-python",
   "name": "python",
   "nbconvert_exporter": "python",
   "pygments_lexer": "ipython3",
   "version": "3.11.6"
  }
 },
 "nbformat": 4,
 "nbformat_minor": 4
}
