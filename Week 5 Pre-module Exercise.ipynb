{
 "cells": [
  {
   "cell_type": "markdown",
   "metadata": {
    "id": "-WCICw9CqPiw"
   },
   "source": [
    "# Week 5: Introduction to Supervised Machine Learning\n",
    "\n",
    "This week, we will introduce another tool that can be used to analyse data: Machine Learning. By the end of this model, you should be able to:\n",
    "1. Define Supervised Machine Learning and understand its importance in biology.\n",
    "2. Explain the typical procedure to train an ML model.\n",
    "3. Implement a program to create an ML Model using a framework called `sklearn`.\n",
    "4. Understand appropriate ways to evaluate the performance of an ML Model.\n",
    "\n",
    "\n",
    "### What is Machine Learning?\n",
    "First, you have probably heard both the terms machine learning (ML) and artificial intelligence (AI) before and may be wondering what the difference is.\n",
    "\n",
    "\n",
    "**Artificial Intelligence (AI)** is the field of computer science that focuses on creating systems capable of performing tasks that would typically require human intelligence. These tasks include recognizing patterns, learning from data, making decisions, and solving complex problems.\n",
    "\n",
    "**Machine Learning (ML)** is a subset of AI. Rather than explicitly programming a computer to follow a fixed set of rules, in ML, we \"teach\" computers to learn from data. This is particularly useful in fields like biology, where there is an abundance of data, but the patterns and relations in the data are complex and hard for a human to parse through.\n"
   ]
  },
  {
   "cell_type": "markdown",
   "metadata": {
    "id": "3fdo12I4fLiI"
   },
   "source": [
    "![aiml_hierarchy](aiml_hierarchy.png)"
   ]
  },
  {
   "cell_type": "markdown",
   "metadata": {
    "id": "NEUMW80bfJMX"
   },
   "source": [
    "AI and ML are becoming essential tools in biology, with applications such as:\n",
    "\n",
    "* Genomics: Identifying gene sequences associated with specific diseases.\n",
    "* Drug Discovery: Predicting which compounds may act effectively on certain targets, helping to speed up the drug discovery process.\n",
    "* Imaging and Diagnostics: Analyzing medical images (like MRI or histology slides) to identify patterns that might indicate disease.\n",
    "* Ecology and Evolution: Analyzing large-scale environmental data or understanding population dynamics and evolutionary patterns.\n",
    "\n",
    "\n",
    "Many of you have heard recent developments in ML, and these advancements continue to impact the way we work, learn, and coexist with technology. You may be surprised to find that machine learning is becoming increasingly important in biological research. A study by  [Walsh et al. (2021)](https://https://www.nature.com/articles/s41592-021-01205-4#citeas) shows an exponential increase of ML publications in biology since the 1990's, shown in the figure below."
   ]
  },
  {
   "cell_type": "markdown",
   "metadata": {
    "id": "5R2YSGsEXkq4"
   },
   "source": [
    "![ml_in_bio](ml_in_bio.png)"
   ]
  },
  {
   "cell_type": "markdown",
   "metadata": {
    "id": "c6dzOygbXyIg"
   },
   "source": [
    "It's clear to see the scientific community is rapidly adopting ML techniques as a means to drive new findings.  Bridging the gap in knowledge between computer scientists/engineers and researchers in the scientific community is very much a work in progress. Our goal is to learn, at a very high level, what machine learning entails and how it may be used in biological research.\n"
   ]
  },
  {
   "cell_type": "markdown",
   "metadata": {
    "id": "esl_xR-zrea6"
   },
   "source": [
    "### ML Pipeline\n",
    "\n",
    "A Machine learning pipeline typically involves 4 steps.\n",
    "\n",
    "1. Data Preparation: In this step, we obtain the relevant data for the task we are trying to perform and clean up records that seem incorrect.\n",
    "2. Data Exploration: We then analyze the data at hand to manually find potentially interesting patterns.\n",
    "3. Model Training: Once we have explored our data and manually identified potential trends and patterns, we can train (aka fit) a machine learning model. Ideally, the ML model will pick up patterns we have missed and will be able to outperform rules we discover.\n",
    "4. Model Evaluation: To confirm if the model picked up useful trends, we will use a variety of metrics to evaluate how well the model does at our task.\n",
    "\n",
    "In this course, Week 3 covered Steps 1 and 2 (but we will practice step 2 below). We will cover Steps 3 and 4 in the main module."
   ]
  },
  {
   "cell_type": "markdown",
   "metadata": {},
   "source": [
    "![mlp](ml_pipeline.png)"
   ]
  },
  {
   "cell_type": "markdown",
   "metadata": {
    "id": "F7S1lrVVqoeO"
   },
   "source": [
    "### Problem statement: Breast cancer\n",
    "\n",
    "Hopefully, you enjoyed the heart failure analysis from earlier weeks, because we have yet another task:\n",
    "\n",
    "You have recently moved to a new research lab within the Canadian Cancer Society, studying breast cancer cells. The Canadian Cancer Society estimates that 1 in 8 women will develop breast cancer, with breast cancer constituting about 14% of cancer deaths among women. However, not all breast cancer cells are malignant. If there is a way to accurately detect if a particular breast cancer cell is benign or malignant early on, medical resources could be better allocated for better patient care. The team would like to find out if machine learning could be used to predict which cancer cells are benign or malignant, knowing that ML methods have been  shown to be feasible in other cancer cell analyses in the industry.\n",
    "\n",
    "You have been given a public dataset from the Diagnostic Wisconsin Breast Cancer Database*, containing features from digitized images of breast cancer cell nuclei. From these images, the research team took measurements that show various characteristics (eg. radius, symmetry, etc.) for each sample. For each characteristic, they also took several measurements on each image and computed the mean, standard error, and \"worst\" (mean of the three largest values). These measurements and mean/std error/worst values comprise the features of this dataset. For example, the ```radius_mean``` feature is the mean of distances from the center of the nucleus to various points on the perimeter. ```radius_worst``` is the mean of the 3 longest distances from the nucleus to the center for that image. \n",
    "\n",
    "Take a moment to view the dataset **bc_data.csv** (using Excel or another .csv file viewer). \n",
    "\n",
    "While you are excited to contribute to your team's research, there are a few gaps in your knowledge, starting with... how does machine learning even work?\n",
    "\n",
    "*https://www.kaggle.com/datasets/uciml/breast-cancer-wisconsin-data"
   ]
  },
  {
   "cell_type": "markdown",
   "metadata": {
    "id": "axfhhX7Nv_XB"
   },
   "source": [
    "### Data Preparation\n",
    "![dp](data_prep_pipeline.png)\n",
    "While in most real-world cases, you (or your team) may need to go out and collect data, we will use a dataset that has already been prepared for us. Below, we load in the dataset from an online source where `X` is the measurements taken by the researchers, and `y` contains whether or not a positive diagnosis was given. Each row in the data represents one sample."
   ]
  },
  {
   "cell_type": "code",
   "execution_count": null,
   "metadata": {
    "id": "cfybQxS3qn_4"
   },
   "outputs": [],
   "source": [
    "from sklearn.datasets import fetch_openml\n",
    "import pandas as pd\n",
    "import numpy as np\n",
    "import matplotlib.pyplot as plt\n",
    "\n",
    "df = pd.read_csv('bc_data.csv', index_col=0)\n",
    "df = df.drop('Unnamed: 32', axis=1)\n",
    "df.head()\n",
    "\n",
    "y = df[\"diagnosis\"] #.map({\"B\" : 0, \"M\" : 1})\n",
    "X = df.drop(\"diagnosis\", axis = 1)\n"
   ]
  },
  {
   "cell_type": "markdown",
   "metadata": {
    "id": "l-1ePpsfhg8S"
   },
   "source": [
    "Below we print out the first few rows of both `X` (the measurements taken by the researchers) and `y` (the diagnosis for diabetes)"
   ]
  },
  {
   "cell_type": "code",
   "execution_count": null,
   "metadata": {
    "id": "f8OKZvxDhj7X"
   },
   "outputs": [],
   "source": [
    "X.head()"
   ]
  },
  {
   "cell_type": "code",
   "execution_count": null,
   "metadata": {
    "id": "Q7ptJLMphj9W"
   },
   "outputs": [],
   "source": [
    "y.head()"
   ]
  },
  {
   "cell_type": "markdown",
   "metadata": {
    "id": "vQ1Ifbr_idbx"
   },
   "source": [
    "### Data Exploration:\n",
    "\n",
    "![de](data_explore_pipeline.png)\n",
    "\n",
    "Before we dive into training an ML Model, we will first manually explore the data to see if we can identify potential reasons for diabetes."
   ]
  },
  {
   "cell_type": "markdown",
   "metadata": {},
   "source": [
    "Let's analyze the positive and negative cases for the Breast Cancer dataset. Under the column \"diagnosis\", there are 2 possible values: M (malignant) and B (benign). "
   ]
  },
  {
   "cell_type": "markdown",
   "metadata": {
    "id": "JRxflWxAT_36"
   },
   "source": [
    "---\n",
    "**Q*1: Subset `X` into two different dataframes, one with all positive cases and one with negative cases. What percentage of patients have diabetes?**\n",
    "\n",
    "> Hint: Look at week 3 Question 5 on how to subset dataframes.\n",
    "\n",
    "<span style=\"background-color: #FFD700\">**Write your code below**</span> \n"
   ]
  },
  {
   "cell_type": "code",
   "execution_count": null,
   "metadata": {
    "id": "JhzhvbqMT_9I"
   },
   "outputs": [],
   "source": [
    "positive_cases = ...\n",
    "negative_cases = ...\n",
    "n_positive = ...\n",
    "n_negative = ...\n",
    "\n",
    "print(f\"{n_positive / (n_positive + n_negative) * 100:.2f}% of the cases are positive\")"
   ]
  },
  {
   "cell_type": "markdown",
   "metadata": {
    "id": "y-g2lDlrUAFy"
   },
   "source": [
    "<span style=\"background-color: #FFD700\">**Write your answer below**</span>\n"
   ]
  },
  {
   "cell_type": "markdown",
   "metadata": {},
   "source": [
    "Answer here:\n",
    "\n",
    "---"
   ]
  },
  {
   "cell_type": "markdown",
   "metadata": {
    "id": "3QJ2yp1JVGI2"
   },
   "source": [
    "**Q*2: Calculate the mean and standard deviations of the attributes for patients with diabetes as well as the average values for patients without diabetes. What differences do you notice between the two groups?**\n",
    "\n",
    "<span style=\"background-color: #FFD700\">**Write your code below**</span> \n"
   ]
  },
  {
   "cell_type": "code",
   "execution_count": null,
   "metadata": {
    "id": "sP-VN7b-V93D"
   },
   "outputs": [],
   "source": []
  },
  {
   "cell_type": "code",
   "execution_count": null,
   "metadata": {},
   "outputs": [],
   "source": []
  },
  {
   "cell_type": "markdown",
   "metadata": {
    "id": "hKf7amWNWZjA"
   },
   "source": [
    "<span style=\"background-color: #FFD700\">**Write your answer below**</span>\n"
   ]
  },
  {
   "cell_type": "markdown",
   "metadata": {},
   "source": [
    "Answer here:\n",
    "\n",
    "---"
   ]
  },
  {
   "cell_type": "markdown",
   "metadata": {
    "id": "m8P1O5kPbkFX"
   },
   "source": [
    "**Q*3: Create Histograms of the patient attributes for both the positive and negative groups. What differences do you notice between the two groups?**\n",
    "\n",
    "<span style=\"background-color: #FFD700\">**Write your code below**</span> \n"
   ]
  },
  {
   "cell_type": "code",
   "execution_count": null,
   "metadata": {
    "id": "derluRD7fQI8"
   },
   "outputs": [],
   "source": [
    "...\n",
    "plt.show()"
   ]
  },
  {
   "cell_type": "code",
   "execution_count": null,
   "metadata": {
    "id": "BKB32-sMp6M9"
   },
   "outputs": [],
   "source": [
    "...\n",
    "plt.show()"
   ]
  },
  {
   "cell_type": "markdown",
   "metadata": {
    "id": "fh0QkMbQdG4S"
   },
   "source": [
    "<span style=\"background-color: #FFD700\">**Write your answer below**</span>\n"
   ]
  },
  {
   "cell_type": "markdown",
   "metadata": {},
   "source": [
    "Answer here:\n",
    "\n",
    "---"
   ]
  },
  {
   "cell_type": "markdown",
   "metadata": {},
   "source": [
    "## **Graded Question: (3 marks)**"
   ]
  },
  {
   "cell_type": "markdown",
   "metadata": {
    "id": "y7iZtaOJWVf7"
   },
   "source": [
    "**GQ*1. (3 marks) Using the analysis above, do your best to create a few rules (1-2+) that doctors may use to identify patients with breast cancer, then subset `X` and `y` based on these rules (1pt). How many patients with breast cancer did you identify (1pt)? How many did you miss (1pt)?**\n",
    "\n",
    "> Rule Examples: `Patients have diabetes if Age > 10` or `Patients don't have diabetes if Pregnancies >=2`. These do not do well, please make your own.\n"
   ]
  },
  {
   "cell_type": "code",
   "execution_count": null,
   "metadata": {
    "id": "raiZxT0eWVn7"
   },
   "outputs": [],
   "source": [
    "# Example rule\n",
    "example_rule_positive_cases = y[X['area_worst'] > 600]\n",
    "example_rule_negative_cases = y[X['area_worst'] <= 600]"
   ]
  },
  {
   "cell_type": "code",
   "execution_count": null,
   "metadata": {
    "id": "wAI5nGMkabUa"
   },
   "outputs": [],
   "source": [
    "n_patients_captured = np.sum(example_rule_positive_cases == 'M') \n",
    "n_patients_missed = np.sum(example_rule_negative_cases == 'B') \n",
    "print(f\"Ratio of Patients captured: {n_patients_captured:.2f}, Patients missed: {n_patients_missed:.2f}\")"
   ]
  },
  {
   "cell_type": "markdown",
   "metadata": {},
   "source": [
    "<span style=\"background-color: #FFD700\">**Write your code below**</span> \n"
   ]
  },
  {
   "cell_type": "code",
   "execution_count": null,
   "metadata": {
    "id": "wAI5nGMkabUa"
   },
   "outputs": [],
   "source": [
    "..."
   ]
  },
  {
   "cell_type": "markdown",
   "metadata": {},
   "source": [
    "<span style=\"background-color: #FFD700\">**Write your answer below**</span>\n"
   ]
  },
  {
   "cell_type": "markdown",
   "metadata": {},
   "source": [
    "Answer here:\n",
    "\n",
    "---"
   ]
  }
 ],
 "metadata": {
  "colab": {
   "provenance": []
  },
  "kernelspec": {
   "display_name": "Python 3 (ipykernel)",
   "language": "python",
   "name": "python3"
  },
  "language_info": {
   "codemirror_mode": {
    "name": "ipython",
    "version": 3
   },
   "file_extension": ".py",
   "mimetype": "text/x-python",
   "name": "python",
   "nbconvert_exporter": "python",
   "pygments_lexer": "ipython3",
   "version": "3.11.6"
  }
 },
 "nbformat": 4,
 "nbformat_minor": 4
}
