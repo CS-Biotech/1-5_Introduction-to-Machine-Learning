{
 "cells": [
  {
   "cell_type": "markdown",
   "metadata": {
    "id": "-WCICw9CqPiw"
   },
   "source": [
    "# Week 5: Introduction to Supervised Machine Learning\n",
    "\n",
    "This week we will introduce another tool that can be used to analyse data: Machine Learning. By the end of this model, you should be able to:\n",
    "1. Define Supervised Machine Learning and understand its importance in biology.\n",
    "2. Explain the typical procedure to train an ML model.\n",
    "3. Implement a program to create an ML Model using a framework called `sklearn`.\n",
    "4. Understand appropriate ways to evaluate the performance of an ML Model.\n",
    "\n",
    "\n",
    "## What is Machine Learning?\n",
    "First, you have probably heard both the terms machine learning (ML) and artificial intelligence (AI) before and may be wondering what the difference is.\n",
    "\n",
    "\n",
    "**Artificial Intelligence (AI)** is the field of computer science that focuses on creating systems capable of performing tasks that would typically require human intelligence. These tasks include recognizing patterns, learning from data, making decisions, and solving complex problems.\n",
    "\n",
    "**Machine Learning (ML)** is a subset of AI. Rather than explicitly programming a computer to follow a fixed set of rules, in ML, we \"teach\" computers to learn from data. This is particularly useful in fields like biology, where there is an abundance of data, but the patterns and relations in the data are complex and hard for a human to parse through.\n",
    "\n",
    "\n",
    "\n"
   ]
  },
  {
   "cell_type": "markdown",
   "metadata": {
    "id": "3fdo12I4fLiI"
   },
   "source": [
    "![aiml_hierarchy](aiml_hierarchy.png)"
   ]
  },
  {
   "cell_type": "markdown",
   "metadata": {
    "id": "NEUMW80bfJMX"
   },
   "source": [
    "\n",
    "AI and ML are becoming essential tools in biology, with applications such as:\n",
    "\n",
    "* Genomics: Identifying gene sequences associated with specific diseases.\n",
    "* Drug Discovery: Predicting which compounds may act effectively on certain targets, helping to speed up the drug discovery process.\n",
    "* Imaging and Diagnostics: Analyzing medical images (like MRI or histology slides) to identify patterns that might indicate disease.\n",
    "* Ecology and Evolution: Analyzing large-scale environmental data or understanding population dynamics and evolutionary patterns.\n",
    "\n",
    "\n",
    "Many of you have heard recent developments in ML, and these advancements continue to impact the way we work, learn, and coexist with technology. You may be surprised to find that machine learning is becoming increasingly important in biological research. A study by  [Walsh et al. (2021)](https://https://www.nature.com/articles/s41592-021-01205-4#citeas) shows an exponential increase of ML publications in biology since the 1990's, shown in the figure below."
   ]
  },
  {
   "cell_type": "markdown",
   "metadata": {
    "id": "5R2YSGsEXkq4"
   },
   "source": [
    "![ml_in_bio](ml_in_bio.png)"
   ]
  },
  {
   "cell_type": "markdown",
   "metadata": {
    "id": "c6dzOygbXyIg"
   },
   "source": [
    "It's clear to see the scientific community is rapidly adopting ML techniques as a means to drive new findings.  Bridging the gap in knowledge between computer scientists/engineers and researchers in the scientific community is very much a work in progress. Our goal is to learn, at a very high level, what machine learning entails and how it may be used in biological research.\n"
   ]
  },
  {
   "cell_type": "markdown",
   "metadata": {
    "id": "esl_xR-zrea6"
   },
   "source": [
    "## ML Pipeline\n",
    "\n",
    "A Machine learning pipeline typically involves 4 steps\"\n",
    "\n",
    "1. Data Preparation: In this step, we obtain the relevant data for the task we are trying to perform and clean up records that seem incorrect.\n",
    "2. Data Exploration: We then analyze the data at hand to manually find potentially interesting patterns.\n",
    "3. Model Training: Once we have explored our data and manually identified potential trends and patterns, we can train (aka fit) a machine learning model. Ideally, the ML model will pick up patterns we have missed and will be able to outperform rules we discover.\n",
    "4. Model Evaluation: To confirm if the model picked up useful trends, we will use a variety of metrics to evaluate how well the model does at our task.\n",
    "\n",
    "In this course, Week 3 covered Steps 1 and 2 (but we will practice step 2 below). We will cover Steps 3 and 4 in the main module."
   ]
  },
  {
   "cell_type": "markdown",
   "metadata": {},
   "source": [
    "![fc](fcall.png)"
   ]
  },
  {
   "cell_type": "markdown",
   "metadata": {
    "id": "F7S1lrVVqoeO"
   },
   "source": [
    "### Case Study: Predicting Diabetes Risk in Pima Indian Women\n",
    "\n",
    "Hopefully you enjoyed the heart failure analysis from earlier weeks, because we have yet another task:\n",
    "\n",
    "The Pima Indians Diabetes Dataset was created by the National Institute of Diabetes and Digestive and Kidney Diseases to investigate the correlation between health-related attributes and the onset of diabetes. The study population consists exclusively of adult females of Pima Indian heritage, selected because of their higher-than-average prevalence of diabetes, providing a focused case for understanding factors contributing to diabetes risk.\n",
    "\n",
    "The dataset comprises 768 records, with each instance containing eight attributes and a target variable. Each record represents one patient and includes the following attributes:\n",
    "\n",
    "* Pregnancies: Number of times the patient has been pregnant.\n",
    "* Glucose: Plasma glucose concentration over two hours in an oral glucose tolerance test.\n",
    "* Blood Pressure: Diastolic blood pressure (mm Hg).\n",
    "* Skin Thickness: Triceps skinfold thickness (mm).\n",
    "* Insulin: Two-hour serum insulin (mu U/ml).\n",
    "* BMI: Body mass index (weight in kg/(height in m)^2).\n",
    "* Diabetes Pedigree Function: A function that scores likelihood of diabetes based on family history.\n",
    "* Age: Patient's age (years).\n",
    "\n",
    "The primary objective of this case study is to identify diabetic individuals based on the features provided to understand which factors most strongly correlate with diabetes risk. This could ultimately help in developing preventive measures for at-risk populations.\n",
    "\n"
   ]
  },
  {
   "cell_type": "markdown",
   "metadata": {
    "id": "axfhhX7Nv_XB"
   },
   "source": [
    "## Data Preparation\n",
    "![fc1](fc1.png)\n",
    "While in most real-world cases, you (or your team) may need to go out and collect data, we will use a dataset that has already been prepared for us. Below, we load in the dataset from an online source where `X` is the measurements taken by the researchers, and `y` contains whether or not each a positive diagnosis was given. Each row in the data represents one sample."
   ]
  },
  {
   "cell_type": "code",
   "execution_count": null,
   "metadata": {
    "id": "cfybQxS3qn_4"
   },
   "outputs": [],
   "source": [
    "from sklearn.datasets import fetch_openml\n",
    "import pandas as pd\n",
    "import numpy as np\n",
    "\n",
    "# we fetch the dataset from https://www.openml.org/search?type=data&status=active&id=37\n",
    "X,y = fetch_openml(data_id = 37, as_frame = True, return_X_y = True, parser='auto')\n"
   ]
  },
  {
   "cell_type": "markdown",
   "metadata": {
    "id": "l-1ePpsfhg8S"
   },
   "source": [
    "Below we print out the first few rows of both `X` (the measurements taken by the researchers) and `y` (the diagnosis for diabetes)"
   ]
  },
  {
   "cell_type": "code",
   "execution_count": null,
   "metadata": {
    "id": "f8OKZvxDhj7X"
   },
   "outputs": [],
   "source": [
    "X.head()"
   ]
  },
  {
   "cell_type": "code",
   "execution_count": null,
   "metadata": {
    "id": "Q7ptJLMphj9W"
   },
   "outputs": [],
   "source": [
    "y.head()"
   ]
  },
  {
   "cell_type": "markdown",
   "metadata": {
    "id": "vQ1Ifbr_idbx"
   },
   "source": [
    "## Data Exploration:\n",
    "\n",
    "![fc2](fc2.png)\n",
    "\n",
    "Before we dive into training a ML Model, we will first manually explore the data to see if we can identify potential reasons for diabetes."
   ]
  },
  {
   "cell_type": "markdown",
   "metadata": {
    "id": "JRxflWxAT_36"
   },
   "source": [
    "---\n",
    "##### **Q1: Subset `X` into two different dataframes, one with all positive cases and one with negative cases. What percentage of patients have diabetes?**\n",
    "\n",
    "> Hint: Look at week 3 Question 5 on how to subset dataframes.\n"
   ]
  },
  {
   "cell_type": "code",
   "execution_count": null,
   "metadata": {
    "id": "JhzhvbqMT_9I"
   },
   "outputs": [],
   "source": []
  },
  {
   "cell_type": "markdown",
   "metadata": {
    "id": "y-g2lDlrUAFy"
   },
   "source": [
    "*Your Answer Here.*\n",
    "\n",
    "---"
   ]
  },
  {
   "cell_type": "markdown",
   "metadata": {
    "id": "3QJ2yp1JVGI2"
   },
   "source": [
    "\n",
    "##### **Q2: Calculate the mean and standard deviations of the attributes for patients with diabetes as well as the average values for patients without diabetes. What differences do you notice between the two groups?**\n"
   ]
  },
  {
   "cell_type": "code",
   "execution_count": null,
   "metadata": {
    "id": "sP-VN7b-V93D"
   },
   "outputs": [],
   "source": []
  },
  {
   "cell_type": "markdown",
   "metadata": {
    "id": "hKf7amWNWZjA"
   },
   "source": [
    "Your Answer Here\n",
    "\n",
    "---"
   ]
  },
  {
   "cell_type": "markdown",
   "metadata": {
    "id": "m8P1O5kPbkFX"
   },
   "source": [
    "##### **Q3: Create Histograms of the patient attributes for both the positive and negative groups. What differences do you notice between the two groups?**\n"
   ]
  },
  {
   "cell_type": "code",
   "execution_count": null,
   "metadata": {
    "id": "derluRD7fQI8"
   },
   "outputs": [],
   "source": []
  },
  {
   "cell_type": "markdown",
   "metadata": {
    "id": "fh0QkMbQdG4S"
   },
   "source": [
    "Your Answer Here\n",
    "\n",
    "---"
   ]
  },
  {
   "cell_type": "markdown",
   "metadata": {},
   "source": [
    "## Graded Question"
   ]
  },
  {
   "cell_type": "markdown",
   "metadata": {
    "id": "y7iZtaOJWVf7"
   },
   "source": [
    "##### **GQ1: Using the analysis above, do your best to create a few rules (1-2+) that doctors may use to identify patients with diabetes, then subset `X` and `y` based on these rules (1pt). How many patients with diabetes did you identify (1pt)? How many did you miss (1pt)?**\n",
    "\n",
    "> Rule Examples: `Patients have diabetes if Age > 10` or `Patients don't have diabetes if Pregnancies >=2`. These do not do well so please make your own.\n"
   ]
  },
  {
   "cell_type": "code",
   "execution_count": null,
   "metadata": {
    "id": "raiZxT0eWVn7"
   },
   "outputs": [],
   "source": [
    "# Example rule\n",
    "example_rule_positive_cases = y[X['age'] > 10]"
   ]
  },
  {
   "cell_type": "code",
   "execution_count": null,
   "metadata": {
    "id": "wAI5nGMkabUa"
   },
   "outputs": [],
   "source": [
    "## Your Code Here"
   ]
  }
 ],
 "metadata": {
  "colab": {
   "provenance": []
  },
  "kernelspec": {
   "display_name": "base",
   "language": "python",
   "name": "python3"
  },
  "language_info": {
   "name": "python",
   "version": "3.11.5"
  }
 },
 "nbformat": 4,
 "nbformat_minor": 0
}
